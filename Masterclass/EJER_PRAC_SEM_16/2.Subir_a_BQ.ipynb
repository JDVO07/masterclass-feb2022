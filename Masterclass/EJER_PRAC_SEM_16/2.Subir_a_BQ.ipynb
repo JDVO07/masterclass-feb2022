{
 "cells": [
  {
   "cell_type": "code",
   "execution_count": 2,
   "metadata": {},
   "outputs": [],
   "source": [
    "# Objetivo: Vamos a leer el DF anterior, vamos a crear la conexión con BigQuery y vamos a enviar este DF a Bigquery\n",
    "\n",
    "# Primero, con Pandas, leemos el csv generado anteriormente\n",
    "import pandas as pd\n",
    "df = pd.read_csv('./df_covid_por_estado.csv')"
   ]
  },
  {
   "cell_type": "code",
   "execution_count": 9,
   "metadata": {},
   "outputs": [
    {
     "data": {
      "text/plain": [
       "<google.oauth2.service_account.Credentials at 0x158ba7230>"
      ]
     },
     "execution_count": 9,
     "metadata": {},
     "output_type": "execute_result"
    }
   ],
   "source": [
    "# Generamos conexion a BQ\n",
    "from google.oauth2 import service_account # para generar conexion con BigQuery\n",
    "bq_cred = service_account.Credentials.from_service_account_file('./my-project-jdvo-ds-10753-fec0c56175aa.json')\n",
    "bq_cred"
   ]
  },
  {
   "cell_type": "code",
   "execution_count": 10,
   "metadata": {},
   "outputs": [],
   "source": [
    "# Enviamos el df a BQ - Podemos crear o reemplazar una tabla\n",
    "import pandas_gbq # para interactuar con BQ"
   ]
  },
  {
   "cell_type": "code",
   "execution_count": 12,
   "metadata": {},
   "outputs": [
    {
     "name": "stderr",
     "output_type": "stream",
     "text": [
      "100%|██████████| 1/1 [00:00<00:00, 5691.05it/s]\n"
     ]
    }
   ],
   "source": [
    "pandas_gbq.to_gbq(df, 'data_warehouse.masterclass_feb22', project_id= 'my-project-jdvo-ds-10753', if_exists= 'replace', credentials = bq_cred)"
   ]
  },
  {
   "cell_type": "code",
   "execution_count": 13,
   "metadata": {},
   "outputs": [
    {
     "name": "stderr",
     "output_type": "stream",
     "text": [
      "100%|██████████| 1/1 [00:00<00:00, 5262.61it/s]\n"
     ]
    }
   ],
   "source": [
    "# Si queremos anexar datos de una tabla en lugar de reemplazar\n",
    "pandas_gbq.to_gbq(df, 'data_warehouse.masterclass_feb22', project_id= 'my-project-jdvo-ds-10753', if_exists= 'append', credentials = bq_cred)"
   ]
  }
 ],
 "metadata": {
  "kernelspec": {
   "display_name": "base",
   "language": "python",
   "name": "python3"
  },
  "language_info": {
   "codemirror_mode": {
    "name": "ipython",
    "version": 3
   },
   "file_extension": ".py",
   "mimetype": "text/x-python",
   "name": "python",
   "nbconvert_exporter": "python",
   "pygments_lexer": "ipython3",
   "version": "3.12.4"
  },
  "orig_nbformat": 4
 },
 "nbformat": 4,
 "nbformat_minor": 2
}
